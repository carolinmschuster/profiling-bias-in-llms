{
 "cells": [
  {
   "cell_type": "code",
   "execution_count": null,
   "id": "9182faf7",
   "metadata": {},
   "outputs": [],
   "source": [
    "import os\n",
    "import pandas as pd\n",
    "import json as js\n",
    "from urllib.request import urlretrieve\n",
    "import nltk\n",
    "nltk.download('wordnet')\n",
    "from nltk.corpus import wordnet as wn\n",
    "import utils"
   ]
  },
  {
   "cell_type": "markdown",
   "id": "97bdc00b",
   "metadata": {},
   "source": [
    "## Loading the dictionaries of the stereotype content model\n",
    "\n",
    "Paper: Nicolas, G., Bai, X., & Fiske, S. T. (2021). Comprehensive stereotype content dictionaries using a semi‐automated method. European Journal of Social Psychology, 51(1), 178-196. https://onlinelibrary.wiley.com/doi/abs/10.1002/ejsp.2724\n",
    "\n",
    "Resources available from https://osf.io/yx45f/"
   ]
  },
  {
   "cell_type": "code",
   "execution_count": null,
   "id": "1be9de1f-f74f-4ca1-9e5d-2d114c8b62f9",
   "metadata": {},
   "outputs": [],
   "source": [
    "# Seed Dictionaries at https://osf.io/ghfkb\n",
    "# theoretically selected terms along stereotype dimensions\n",
    "urlretrieve(\"https://osf.io/download/ghfkb/\", \"./Seed Dictionaries.csv\")\n",
    "seed_dictionary = pd.read_csv('./Seed Dictionaries.csv')\n",
    "seed_dictionary.head()"
   ]
  },
  {
   "cell_type": "code",
   "execution_count": null,
   "id": "4add9adc-ebe8-448e-afd8-426b8348177a",
   "metadata": {},
   "outputs": [],
   "source": [
    "# available stereotype dimensions\n",
    "stereotype_dimensions = seed_dictionary['Dictionary'].unique().tolist()\n",
    "warmth_competence_dimensions = {\"Warmth\": [\"Sociability\", \"Morality\"], \"Competence\": [\"Ability\", \"Agency\"]}\n",
    "all_dimensions = list(warmth_competence_dimensions.keys()) + stereotype_dimensions\n",
    "all_dimensions"
   ]
  },
  {
   "cell_type": "markdown",
   "id": "1f720227",
   "metadata": {},
   "source": [
    "## Retrieving example sentences from WordNet\n"
   ]
  },
  {
   "cell_type": "code",
   "execution_count": null,
   "id": "43b97fd1",
   "metadata": {},
   "outputs": [],
   "source": [
    "# retrieving synset, definitions and examples from WordNet\n",
    "seed_dictionary['synset'] = seed_dictionary.apply(lambda x: utils.get_wn_synset(x.term, x.PoS, x.sense), axis=1)\n",
    "seed_dictionary['definition'] = seed_dictionary.apply(lambda x: utils.get_wn_definition(x.synset), axis=1)\n",
    "seed_dictionary['examples'] = seed_dictionary.apply(lambda x: utils.get_wn_examples(x.synset), axis=1)\n",
    "\n",
    "# Replacing the synonym in examples with \"term\", when they are different. Also checking for the case of 3 different tokens, e.g. sentence = 'a very unsure young man', synset = diffident.a.02, term = timid\n",
    "seed_dictionary[['examples', '3diff']] = seed_dictionary.apply(\n",
    "    lambda x: utils.replace_wn_terms(x.term, x.examples, x.synset), axis=1, result_type='expand')\n",
    "\n",
    "seed_dictionary.head()"
   ]
  },
  {
   "cell_type": "markdown",
   "id": "ebabd41d-99b6-452b-8780-34a4014cd419",
   "metadata": {},
   "source": [
    "### Manual Example Additions from other Dictionaries"
   ]
  },
  {
   "cell_type": "code",
   "execution_count": null,
   "id": "a5f27bd8",
   "metadata": {},
   "outputs": [],
   "source": [
    "# Saving the dictionary to add examples from Oxford Learner's Dictionary or Cambridge Dictionary ( approx. 140 rows without WordNet Examples), and manually replace synonyms in examples.\n",
    "seed_dictionary.to_csv(\"./stereotype_dimensions_dictionary_for_manual_additions.csv\")"
   ]
  },
  {
   "cell_type": "code",
   "execution_count": null,
   "id": "159450b0-7589-4cc8-b7b8-3250d4cc3532",
   "metadata": {},
   "outputs": [],
   "source": [
    "# loading the final stereotype direction dictionary\n",
    "dictionary = pd.read_csv(\"./stereotype_dimensions_dictionary.csv\", index_col = 0)\n",
    "dictionary.head()"
   ]
  },
  {
   "cell_type": "code",
   "execution_count": null,
   "id": "6eddcb3b-fc49-4b01-b30c-dee96cf76b58",
   "metadata": {},
   "outputs": [],
   "source": [
    "# Saving the dictionary examples in a json format\n",
    "dictionary_examples = []\n",
    "\n",
    "for idx, row in dictionary.iterrows():\n",
    "\n",
    "    dictionary_examples.append({\"term\": row[\"term\"], \"synset\": row[\"synset\"],\"definition\": row[\"definition\"], \"examples\": row[\"examples\"], \"example_source\": row[\"example_source\"]})\n",
    "\n",
    "with open(\"./dictionary_examples.txt\", \"w\") as f:\n",
    "\n",
    "    for entry in dictionary_examples:\n",
    "        \n",
    "        js.dump(entry, f)\n",
    "        f.write(\"\\n\")"
   ]
  },
  {
   "cell_type": "markdown",
   "id": "61ca0549",
   "metadata": {},
   "source": [
    "## Processing additional terms from the full dictionary for the prediction task"
   ]
  },
  {
   "cell_type": "code",
   "execution_count": null,
   "id": "06c4eae7-4ed5-43b5-ae37-1bbc9b2a97d0",
   "metadata": {},
   "outputs": [],
   "source": [
    "# Full Dictionaries at https://osf.io/m9nb5\n",
    "# additionally contains terms found by a semi-automated method\n",
    "urlretrieve(\"https://osf.io/download/m9nb5/\", \"./Full Dictionaries.csv\")\n",
    "full_dictionary = pd.read_csv(\"./Full Dictionaries.csv\")\n",
    "full_dictionary.head()"
   ]
  },
  {
   "cell_type": "code",
   "execution_count": null,
   "id": "13bb3bd6",
   "metadata": {},
   "outputs": [],
   "source": [
    "# Building a new dataframe with only necessary information\n",
    "additional_terms = pd.DataFrame()\n",
    "additional_terms['term'] = full_dictionary['original word'].str.lower()\n",
    "\n",
    "# Dimensions are labeled differently in the full dictionary => bringing them into the same format\n",
    "additional_terms['dimension'] = None\n",
    "additional_terms['dir'] = None\n",
    "\n",
    "for dim in stereotype_dimensions:\n",
    "\n",
    "    additional_terms.loc[full_dictionary[dim +' direction'] == -1, ['dimension', 'dir']] = [dim, 'low']\n",
    "    additional_terms.loc[full_dictionary[dim +' direction'] == 1, ['dimension', 'dir']] = [dim, 'high']\n",
    "\n",
    "# Droping rows which do not belong to any stereotype dimension\n",
    "additional_terms.dropna(subset=['dimension'], inplace=True)\n",
    "\n",
    "additional_terms.shape"
   ]
  },
  {
   "cell_type": "code",
   "execution_count": null,
   "id": "e926bf5e",
   "metadata": {},
   "outputs": [],
   "source": [
    "# Removing terms which are already in the seed dictionary\n",
    "additional_terms = additional_terms[~additional_terms['term'].isin(dictionary['term'])]\n",
    "additional_terms.shape"
   ]
  },
  {
   "cell_type": "code",
   "execution_count": null,
   "id": "c57d331a",
   "metadata": {},
   "outputs": [],
   "source": [
    "# Adding wordnet noun and adjective synsets, definitions and examples\n",
    "additional_terms[[\"synsets\", \"definition\", \"examples\"]] = additional_terms.apply(lambda x: utils.get_all_noun_and_adjective_synsets(x.term), axis=1, result_type='expand')\n",
    "\n",
    "# Filtering examples\n",
    "additional_terms['examples'] = additional_terms.apply(lambda x: utils.get_examples_with_term(x.term, x.examples), axis=1)\n",
    "\n",
    "# Adding example source\n",
    "additional_terms['example_source'] = \"WordNet\"\n",
    "\n",
    "# Dropping rows where we have no examples\n",
    "additional_terms = additional_terms.loc[[len(examples)>0 for examples in additional_terms[\"examples\"]]]\n",
    "\n",
    "# Rearranging columns to match seed_dictionary_df\n",
    "additional_terms = additional_terms[['dimension', 'term', 'dir', 'examples',  'example_source', 'synsets', 'definition']]\n",
    "\n",
    "\n",
    "additional_terms.shape"
   ]
  },
  {
   "cell_type": "code",
   "execution_count": null,
   "id": "ef94a82e",
   "metadata": {},
   "outputs": [],
   "source": [
    "additional_terms.head()"
   ]
  },
  {
   "cell_type": "code",
   "execution_count": null,
   "id": "321ea32b-082b-4c4a-88d1-df32ae408790",
   "metadata": {},
   "outputs": [],
   "source": [
    "# saving\n",
    "additional_terms.to_csv(\"./additional_terms.csv\")\n",
    "\n",
    "# saving the dictionary examples for additional terms\n",
    "additional_terms_dictionary_examples = []\n",
    "\n",
    "for idx, row in additional_terms.iterrows():\n",
    "\n",
    "    additional_terms_dictionary_examples.append({\"term\": row[\"term\"],  \"examples\":row[\"examples\"],\"example_source\": row[\"example_source\"] })\n",
    "\n",
    "with open(\"./additional_terms_dictionary_examples.txt\", \"w\") as f:\n",
    "\n",
    "    for entry in additional_terms_dictionary_examples:\n",
    "        \n",
    "        js.dump(entry, f)\n",
    "        f.write(\"\\n\")"
   ]
  },
  {
   "cell_type": "code",
   "execution_count": null,
   "id": "4f3cda8e",
   "metadata": {},
   "outputs": [],
   "source": []
  },
  {
   "cell_type": "code",
   "execution_count": null,
   "id": "28076356",
   "metadata": {},
   "outputs": [],
   "source": []
  }
 ],
 "metadata": {
  "kernelspec": {
   "display_name": "Python 3 (ipykernel)",
   "language": "python",
   "name": "python3"
  },
  "language_info": {
   "codemirror_mode": {
    "name": "ipython",
    "version": 3
   },
   "file_extension": ".py",
   "mimetype": "text/x-python",
   "name": "python",
   "nbconvert_exporter": "python",
   "pygments_lexer": "ipython3",
   "version": "3.9.21"
  }
 },
 "nbformat": 4,
 "nbformat_minor": 5
}
